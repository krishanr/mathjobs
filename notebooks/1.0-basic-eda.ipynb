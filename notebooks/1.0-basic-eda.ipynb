{
 "cells": [
  {
   "cell_type": "code",
   "execution_count": 52,
   "id": "f67f8fbd",
   "metadata": {},
   "outputs": [],
   "source": [
    "from bs4 import BeautifulSoup\n",
    "import requests"
   ]
  },
  {
   "cell_type": "code",
   "execution_count": 53,
   "id": "4ecc638b",
   "metadata": {},
   "outputs": [],
   "source": [
    "req = requests.get(\"https://www.mathjobs.org/jobs?joblist-0-0----rss--\")"
   ]
  },
  {
   "cell_type": "code",
   "execution_count": 54,
   "id": "068443be",
   "metadata": {},
   "outputs": [
    {
     "data": {
      "text/plain": [
       "True"
      ]
     },
     "execution_count": 54,
     "metadata": {},
     "output_type": "execute_result"
    }
   ],
   "source": [
    "req.ok"
   ]
  },
  {
   "cell_type": "code",
   "execution_count": 15,
   "id": "3a4c047e",
   "metadata": {},
   "outputs": [
    {
     "name": "stderr",
     "output_type": "stream",
     "text": [
      "ERROR: Could not find a version that satisfies the requirement xml (from versions: none)\n",
      "ERROR: No matching distribution found for xml\n"
     ]
    }
   ],
   "source": [
    "!pip install xml"
   ]
  },
  {
   "cell_type": "code",
   "execution_count": 55,
   "id": "1e78a0b5",
   "metadata": {},
   "outputs": [],
   "source": [
    "soup = BeautifulSoup(req.text, 'xml')"
   ]
  },
  {
   "cell_type": "code",
   "execution_count": 56,
   "id": "9e592c16",
   "metadata": {},
   "outputs": [],
   "source": [
    "items = soup.find_all(\"item\")"
   ]
  },
  {
   "cell_type": "code",
   "execution_count": 57,
   "id": "9417739c",
   "metadata": {},
   "outputs": [
    {
     "data": {
      "text/plain": [
       "477"
      ]
     },
     "execution_count": 57,
     "metadata": {},
     "output_type": "execute_result"
    }
   ],
   "source": [
    "len(items)"
   ]
  },
  {
   "cell_type": "code",
   "execution_count": 58,
   "id": "9a700e73",
   "metadata": {},
   "outputs": [],
   "source": [
    "req2 = requests.get(items[5].find(\"link\").text)"
   ]
  },
  {
   "cell_type": "code",
   "execution_count": 59,
   "id": "545353bc",
   "metadata": {},
   "outputs": [
    {
     "data": {
      "text/plain": [
       "True"
      ]
     },
     "execution_count": 59,
     "metadata": {},
     "output_type": "execute_result"
    }
   ],
   "source": [
    "req2.ok"
   ]
  },
  {
   "cell_type": "code",
   "execution_count": 60,
   "id": "17bdf1b7",
   "metadata": {},
   "outputs": [],
   "source": [
    "#import pprint\n",
    "#pprint.pprint(req2.text)"
   ]
  },
  {
   "cell_type": "code",
   "execution_count": 61,
   "id": "c7bf5d7b",
   "metadata": {},
   "outputs": [],
   "source": [
    "soup2 = BeautifulSoup(req2.text, 'html5')"
   ]
  },
  {
   "cell_type": "code",
   "execution_count": 62,
   "id": "4fb2067b",
   "metadata": {},
   "outputs": [
    {
     "data": {
      "text/plain": [
       "<b>Position Type:</b>"
      ]
     },
     "execution_count": 62,
     "metadata": {},
     "output_type": "execute_result"
    }
   ],
   "source": [
    "soup2.find_all(\"b\")[2]"
   ]
  },
  {
   "cell_type": "code",
   "execution_count": 50,
   "id": "0f6f4efc",
   "metadata": {},
   "outputs": [
    {
     "data": {
      "text/plain": [
       "' Postdoctoral'"
      ]
     },
     "execution_count": 50,
     "metadata": {},
     "output_type": "execute_result"
    }
   ],
   "source": [
    "soup2.find_all(\"b\")[2].next_sibling"
   ]
  },
  {
   "cell_type": "code",
   "execution_count": 63,
   "id": "7d0e5613",
   "metadata": {},
   "outputs": [],
   "source": [
    "from collections import Counter"
   ]
  },
  {
   "cell_type": "code",
   "execution_count": 66,
   "id": "2a7d5fbc",
   "metadata": {},
   "outputs": [
    {
     "ename": "KeyError",
     "evalue": "2",
     "output_type": "error",
     "traceback": [
      "\u001b[1;31m---------------------------------------------------------------------------\u001b[0m",
      "\u001b[1;31mKeyError\u001b[0m                                  Traceback (most recent call last)",
      "\u001b[1;32m~\\AppData\\Local\\Temp/ipykernel_31872/380713680.py\u001b[0m in \u001b[0;36m<module>\u001b[1;34m\u001b[0m\n\u001b[0;32m      1\u001b[0m \u001b[0mca\u001b[0m \u001b[1;33m=\u001b[0m \u001b[0mCounter\u001b[0m\u001b[1;33m(\u001b[0m\u001b[1;33m)\u001b[0m\u001b[1;33m\u001b[0m\u001b[1;33m\u001b[0m\u001b[0m\n\u001b[0;32m      2\u001b[0m \u001b[1;32mfor\u001b[0m \u001b[0mres\u001b[0m \u001b[1;32min\u001b[0m \u001b[0msoup2\u001b[0m\u001b[1;33m.\u001b[0m\u001b[0mfind_all\u001b[0m\u001b[1;33m(\u001b[0m\u001b[1;34m\"b\"\u001b[0m\u001b[1;33m)\u001b[0m\u001b[1;33m:\u001b[0m\u001b[1;33m\u001b[0m\u001b[1;33m\u001b[0m\u001b[0m\n\u001b[1;32m----> 3\u001b[1;33m     \u001b[0mca\u001b[0m\u001b[1;33m.\u001b[0m\u001b[0mupdate\u001b[0m\u001b[1;33m(\u001b[0m\u001b[0mres\u001b[0m\u001b[1;33m[\u001b[0m\u001b[1;36m2\u001b[0m\u001b[1;33m]\u001b[0m\u001b[1;33m.\u001b[0m\u001b[0mtext\u001b[0m\u001b[1;33m)\u001b[0m\u001b[1;33m\u001b[0m\u001b[1;33m\u001b[0m\u001b[0m\n\u001b[0m",
      "\u001b[1;32m~\\.conda\\envs\\mathjobs\\lib\\site-packages\\bs4\\element.py\u001b[0m in \u001b[0;36m__getitem__\u001b[1;34m(self, key)\u001b[0m\n\u001b[0;32m   1069\u001b[0m         \"\"\"tag[key] returns the value of the 'key' attribute for the tag,\n\u001b[0;32m   1070\u001b[0m         and throws an exception if it's not there.\"\"\"\n\u001b[1;32m-> 1071\u001b[1;33m         \u001b[1;32mreturn\u001b[0m \u001b[0mself\u001b[0m\u001b[1;33m.\u001b[0m\u001b[0mattrs\u001b[0m\u001b[1;33m[\u001b[0m\u001b[0mkey\u001b[0m\u001b[1;33m]\u001b[0m\u001b[1;33m\u001b[0m\u001b[1;33m\u001b[0m\u001b[0m\n\u001b[0m\u001b[0;32m   1072\u001b[0m \u001b[1;33m\u001b[0m\u001b[0m\n\u001b[0;32m   1073\u001b[0m     \u001b[1;32mdef\u001b[0m \u001b[0m__iter__\u001b[0m\u001b[1;33m(\u001b[0m\u001b[0mself\u001b[0m\u001b[1;33m)\u001b[0m\u001b[1;33m:\u001b[0m\u001b[1;33m\u001b[0m\u001b[1;33m\u001b[0m\u001b[0m\n",
      "\u001b[1;31mKeyError\u001b[0m: 2"
     ]
    }
   ],
   "source": [
    "ca = Counter()\n",
    "for res in soup2.find_all(\"b\"):\n",
    "    ca.update(res[2].text)"
   ]
  },
  {
   "cell_type": "code",
   "execution_count": 68,
   "id": "bb1f0173",
   "metadata": {},
   "outputs": [
    {
     "name": "stdout",
     "output_type": "stream",
     "text": [
      "Collecting requests_futures\n",
      "  Downloading requests_futures-1.0.0-py2.py3-none-any.whl (7.4 kB)\n",
      "Requirement already satisfied: requests>=1.2.0 in c:\\users\\krajarat\\.conda\\envs\\mathjobs\\lib\\site-packages (from requests_futures) (2.21.0)\n",
      "Requirement already satisfied: chardet<3.1.0,>=3.0.2 in c:\\users\\krajarat\\.conda\\envs\\mathjobs\\lib\\site-packages (from requests>=1.2.0->requests_futures) (3.0.4)\n",
      "Requirement already satisfied: certifi>=2017.4.17 in c:\\users\\krajarat\\.conda\\envs\\mathjobs\\lib\\site-packages (from requests>=1.2.0->requests_futures) (2021.5.30)\n",
      "Requirement already satisfied: urllib3<1.25,>=1.21.1 in c:\\users\\krajarat\\.conda\\envs\\mathjobs\\lib\\site-packages (from requests>=1.2.0->requests_futures) (1.24.3)\n",
      "Requirement already satisfied: idna<2.9,>=2.5 in c:\\users\\krajarat\\.conda\\envs\\mathjobs\\lib\\site-packages (from requests>=1.2.0->requests_futures) (2.8)\n",
      "Installing collected packages: requests-futures\n",
      "Successfully installed requests-futures-1.0.0\n"
     ]
    }
   ],
   "source": [
    "!pip install requests_futures"
   ]
  },
  {
   "cell_type": "code",
   "execution_count": 70,
   "id": "da7c8aaa",
   "metadata": {},
   "outputs": [],
   "source": [
    "from requests_futures.sessions import FuturesSession\n",
    "\n",
    "results = []\n",
    "session = FuturesSession(max_workers=5) # max_workers should not be too high so you don't make too many requests per second and get blocked\n",
    "\n",
    "fails = []\n",
    "for i,future in enumerate([session.get(item.find(\"link\").text) for item in items]):\n",
    "    try:\n",
    "        results.append(future.result())\n",
    "    except:\n",
    "        fails.append(i)"
   ]
  },
  {
   "cell_type": "code",
   "execution_count": 79,
   "id": "148b2c06",
   "metadata": {},
   "outputs": [],
   "source": [
    "position_labels = []\n",
    "positions = []\n",
    "new_fails = []\n",
    "for i, res in enumerate(results):\n",
    "    if res.ok:  \n",
    "        soup2 = BeautifulSoup(res.text, 'html5')\n",
    "        position_labels.append(soup2.find_all(\"b\")[2].text)\n",
    "        positions.append(soup2.find_all(\"b\")[2].next_sibling)\n",
    "    else:\n",
    "        new_fails.append(i)"
   ]
  },
  {
   "cell_type": "code",
   "execution_count": 81,
   "id": "ac38c5c8",
   "metadata": {},
   "outputs": [
    {
     "data": {
      "text/plain": [
       "Counter({'Position Type:': 417,\n",
       "         'Fellowship Type:': 26,\n",
       "         'Position Location:': 26,\n",
       "         'Scholarship Location:': 1,\n",
       "         'Fellowship Location:': 2,\n",
       "         'Application Type:': 2,\n",
       "         'Program Type:': 3})"
      ]
     },
     "execution_count": 81,
     "metadata": {},
     "output_type": "execute_result"
    }
   ],
   "source": [
    "pos_type = Counter(position_labels)\n",
    "pos_type"
   ]
  },
  {
   "cell_type": "code",
   "execution_count": 82,
   "id": "d37d16fc",
   "metadata": {},
   "outputs": [
    {
     "data": {
      "text/plain": [
       "Counter({' Tenured/Tenure-track faculty': 213,\n",
       "         ' Postdoctoral': 122,\n",
       "         ' Non tenure-track faculty': 73,\n",
       "         ' Fellowship or award': 9,\n",
       "         ' Other': 12,\n",
       "         ' Government or industry': 15,\n",
       "         ' St. Thomas, St. Thomas 00802, Virgin Islands (U.S.) [': 1,\n",
       "         ' London, London, United Kingdom [': 1,\n",
       "         ' London, London E1 4NS, United Kingdom [': 1,\n",
       "         ' Chongqing, Chongqing, China [': 4,\n",
       "         ' Fairfax, Virginia 22030, United States [': 1,\n",
       "         ' Stony Brook, New York 11794-3651, United States [': 1,\n",
       "         ' Logan, Utah 84322, United States [': 1,\n",
       "         ' Buffalo, New York 14260, United States [': 1,\n",
       "         ' New York, New York 10027, United States [': 1,\n",
       "         ' Boston, Massachusetts 02215, United States [': 1,\n",
       "         ' Notre Dame, Indiana 46556, United States': 1,\n",
       "         ' Tuscaloosa, Alabama 35487, United States [': 1,\n",
       "         ' Thuwal, Jeddah 23955-6900, Saudi Arabia [': 2,\n",
       "         ' Toronto, Ontario M5T3J1, Canada [': 1,\n",
       "         ' Lakeland, Florida 33805, United States': 2,\n",
       "         ' Student programs': 2,\n",
       "         ' Berkeley, California 94720, United States': 1,\n",
       "         ' Indianapolis, Indiana 46202, United States [': 1,\n",
       "         ' Administration': 1,\n",
       "         ' Albuquerque, New Mexico 87185, United States [': 1,\n",
       "         ' Tallahassee, Florida 32306, United States [': 1,\n",
       "         ' Paris, Ile-de-France 75007, France [': 1,\n",
       "         ' Academic admissions': 1,\n",
       "         ' London, United Kingdom [': 1,\n",
       "         ' Atlanta, Georgia 30322, United States [': 1,\n",
       "         ' Cambridge, Massachusetts 02139-4307, United States [': 2})"
      ]
     },
     "execution_count": 82,
     "metadata": {},
     "output_type": "execute_result"
    }
   ],
   "source": [
    "positions_cn = Counter(positions)\n",
    "positions_cn"
   ]
  },
  {
   "cell_type": "code",
   "execution_count": 85,
   "id": "3be2e885",
   "metadata": {},
   "outputs": [
    {
     "data": {
      "text/plain": [
       "423"
      ]
     },
     "execution_count": 85,
     "metadata": {},
     "output_type": "execute_result"
    }
   ],
   "source": [
    "213+122+73+15"
   ]
  }
 ],
 "metadata": {
  "kernelspec": {
   "display_name": "Python 3 (ipykernel)",
   "language": "python",
   "name": "python3"
  },
  "language_info": {
   "codemirror_mode": {
    "name": "ipython",
    "version": 3
   },
   "file_extension": ".py",
   "mimetype": "text/x-python",
   "name": "python",
   "nbconvert_exporter": "python",
   "pygments_lexer": "ipython3",
   "version": "3.8.10"
  }
 },
 "nbformat": 4,
 "nbformat_minor": 5
}
